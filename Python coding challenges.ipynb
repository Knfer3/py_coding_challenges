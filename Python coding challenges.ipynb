{
 "cells": [
  {
   "cell_type": "markdown",
   "metadata": {},
   "source": [
    "## Python coding challenges \n",
    "\n",
    "All examples are from [python principles](https://pythonprinciples.com/challenges/)\n",
    "and are great exercises to learn if you are a beginner, but also to keep your python skills fresh in memory. \n",
    "\n",
    "challanges range from easy to (moderately) challenging\n"
   ]
  },
  {
   "cell_type": "markdown",
   "metadata": {},
   "source": [
    "### 1. Capital indexes\n",
    "\n",
    "\n",
    "Write a function named capital_indexes. The function takes a single parameter, which is a string. Your function should return a list of all the indexes in the string that have capital letters.\n",
    "\n",
    "For example, calling ```capital_indexes(\"HeLlO\")``` should return the list [0, 2, 4]."
   ]
  },
  {
   "cell_type": "code",
   "execution_count": 8,
   "metadata": {},
   "outputs": [],
   "source": [
    "def capital_indexes(myString):\n",
    "    return [enum for enum,i in enumerate(myString) if i.isupper()]"
   ]
  },
  {
   "cell_type": "code",
   "execution_count": 9,
   "metadata": {},
   "outputs": [
    {
     "data": {
      "text/plain": [
       "[0, 2, 4]"
      ]
     },
     "execution_count": 9,
     "metadata": {},
     "output_type": "execute_result"
    }
   ],
   "source": [
    "capital_indexes('HeLlO')"
   ]
  },
  {
   "cell_type": "markdown",
   "metadata": {},
   "source": [
    "### 2. Middle letter\n",
    "\n",
    "Write a function named mid that takes a string as its parameter. Your function should extract and return the middle letter. If there is no middle letter, your function should return the empty string.\n",
    "\n",
    "For example, ```mid(\"abc\")``` should return \"b\" and ```mid(\"aaaa\")``` should return \"\".\n",
    "\n"
   ]
  },
  {
   "cell_type": "code",
   "execution_count": 5,
   "metadata": {},
   "outputs": [],
   "source": [
    "def mid(word):\n",
    "    if not len(word) % 2 == 0:\n",
    "        word_len = int(len(word)/2)\n",
    "        result = word[word_len]\n",
    "    else:\n",
    "        result = \"\"\n",
    "    return result"
   ]
  },
  {
   "cell_type": "code",
   "execution_count": 6,
   "metadata": {},
   "outputs": [
    {
     "data": {
      "text/plain": [
       "'b'"
      ]
     },
     "execution_count": 6,
     "metadata": {},
     "output_type": "execute_result"
    }
   ],
   "source": [
    "mid(\"abc\")"
   ]
  },
  {
   "cell_type": "code",
   "execution_count": 7,
   "metadata": {},
   "outputs": [
    {
     "data": {
      "text/plain": [
       "''"
      ]
     },
     "execution_count": 7,
     "metadata": {},
     "output_type": "execute_result"
    }
   ],
   "source": [
    "mid('aaaa')"
   ]
  },
  {
   "cell_type": "markdown",
   "metadata": {},
   "source": [
    "### 3. Online status\n",
    "\n",
    "The aim of this challenge is, given a dictionary of people's online status, to count the number of people who are online.\n",
    "\n",
    "For example, consider the following dictionary:\n",
    "\n",
    "```python\n",
    "statuses = {\n",
    "    \"Alice\": \"online\",\n",
    "    \"Bob\": \"offline\",\n",
    "    \"Eve\": \"online\",\n",
    "}\n",
    "```\n",
    "In this case, the number of people online is 2.\n",
    "\n",
    "Write a function named online_count that takes one parameter. The parameter is a dictionary that maps from strings of names to the string ```\"online\"``` or ```\"offline\"```, as seen above.\n",
    "\n",
    "Your function should return the number of people who are online."
   ]
  },
  {
   "cell_type": "code",
   "execution_count": 11,
   "metadata": {},
   "outputs": [],
   "source": [
    "statuses = {\n",
    "    \"Alice\": \"online\",\n",
    "    \"Bob\": \"offline\",\n",
    "    \"Eve\": \"online\",\n",
    "}"
   ]
  },
  {
   "cell_type": "code",
   "execution_count": 10,
   "metadata": {},
   "outputs": [],
   "source": [
    "def online_count(myDic):\n",
    "    return len([p for p in myDic if myDic[p] == \"online\" ])"
   ]
  },
  {
   "cell_type": "code",
   "execution_count": 12,
   "metadata": {},
   "outputs": [
    {
     "data": {
      "text/plain": [
       "2"
      ]
     },
     "execution_count": 12,
     "metadata": {},
     "output_type": "execute_result"
    }
   ],
   "source": [
    "online_count(statuses)"
   ]
  },
  {
   "cell_type": "markdown",
   "metadata": {},
   "source": [
    "### 4. Randomness\n",
    "\n",
    "Define a function, random_number, that takes no parameters. The function must generate a random integer between 1 and 100, both inclusive, and return it.\n",
    "\n",
    "Calling the function multiple times should (usually) return different numbers.\n",
    "\n",
    "For example, calling ```random_number()``` some times might first return ```42```, then ```63```, then ```1```."
   ]
  },
  {
   "cell_type": "code",
   "execution_count": 2,
   "metadata": {},
   "outputs": [],
   "source": [
    "import random\n",
    "def random_number():\n",
    "    return random.randint(1,100)"
   ]
  },
  {
   "cell_type": "code",
   "execution_count": 3,
   "metadata": {},
   "outputs": [
    {
     "data": {
      "text/plain": [
       "3"
      ]
     },
     "execution_count": 3,
     "metadata": {},
     "output_type": "execute_result"
    }
   ],
   "source": [
    "random_number()"
   ]
  },
  {
   "cell_type": "markdown",
   "metadata": {},
   "source": [
    "### 5. Type check\n",
    "\n",
    "Write a function named only_ints that takes two parameters. Your function should return ```True``` if both parameters are integers, and ```False``` otherwise.\n",
    "\n",
    "For example, calling ```only_ints(1, 2)``` should return ```True```, while calling ```only_ints(\"a\", 1)``` should return False."
   ]
  },
  {
   "cell_type": "code",
   "execution_count": 4,
   "metadata": {},
   "outputs": [],
   "source": [
    "def only_ints(parm1,parm2):\n",
    "    return type(parm1) == int and type(parm2) == int"
   ]
  },
  {
   "cell_type": "code",
   "execution_count": 5,
   "metadata": {},
   "outputs": [
    {
     "data": {
      "text/plain": [
       "True"
      ]
     },
     "execution_count": 5,
     "metadata": {},
     "output_type": "execute_result"
    }
   ],
   "source": [
    "only_ints(1, 2)"
   ]
  },
  {
   "cell_type": "code",
   "execution_count": 6,
   "metadata": {},
   "outputs": [
    {
     "data": {
      "text/plain": [
       "False"
      ]
     },
     "execution_count": 6,
     "metadata": {},
     "output_type": "execute_result"
    }
   ],
   "source": [
    "only_ints(\"a\", 1)"
   ]
  },
  {
   "cell_type": "markdown",
   "metadata": {},
   "source": [
    "### 6. Double letters\n",
    "\n",
    "The goal of this challenge is to analyze a string to check if it contains two of the same letter in a row. For example, the string \"hello\" has l twice in a row, while the string \"nono\" does not have two identical letters in a row.\n",
    "\n",
    "Define a function named ```double_letters``` that takes a single parameter. The parameter is a string. Your function must return ```True``` if there are two identical letters in a row in the string, and ```False``` otherwise."
   ]
  },
  {
   "cell_type": "code",
   "execution_count": 13,
   "metadata": {},
   "outputs": [],
   "source": [
    "def double_letters(mystring):\n",
    "    result = False\n",
    "    for idx, i in enumerate(mystring):\n",
    "        if mystring[idx-1] == i:\n",
    "            result = True\n",
    "            break\n",
    "        else:\n",
    "            result = False\n",
    "    return result"
   ]
  },
  {
   "cell_type": "code",
   "execution_count": 14,
   "metadata": {},
   "outputs": [
    {
     "data": {
      "text/plain": [
       "True"
      ]
     },
     "execution_count": 14,
     "metadata": {},
     "output_type": "execute_result"
    }
   ],
   "source": [
    "double_letters('Hello')"
   ]
  },
  {
   "cell_type": "code",
   "execution_count": 15,
   "metadata": {},
   "outputs": [
    {
     "data": {
      "text/plain": [
       "False"
      ]
     },
     "execution_count": 15,
     "metadata": {},
     "output_type": "execute_result"
    }
   ],
   "source": [
    "double_letters('nono')"
   ]
  },
  {
   "cell_type": "code",
   "execution_count": 16,
   "metadata": {},
   "outputs": [],
   "source": [
    "# SOLUTIONS:\n",
    "\n",
    "# naive solution\n",
    "def double_letters(string):\n",
    "    for i in range(len(string) - 1):\n",
    "        letter1 = string[i]\n",
    "        letter2 = string[i+1]\n",
    "        if letter1 == letter2:\n",
    "            return True\n",
    "    return False\n",
    "\n",
    "# shorter solution\n",
    "# using a list comprehension, zip, and any\n",
    "def double_letters(string):\n",
    "    return any([a == b for a, b in zip(string, string[1:])])"
   ]
  },
  {
   "cell_type": "markdown",
   "metadata": {},
   "source": [
    "### 7 .Adding and removing dots\n",
    "\n",
    "Write a function named add_dots that takes a string and adds \".\" in between each letter. For example, calling ```add_dots(\"test\")``` should return the string ```\"t.e.s.t\"```.\n",
    "\n",
    "Then, below the add_dots function, write another function named remove_dots that removes all dots from a string. For example, calling ```remove_dots(\"t.e.s.t\") ```should return ```\"test\"```.\n",
    "\n",
    "If both functions are correct, calling ```remove_dots(add_dots(string))``` should return back the original string for any string.\n",
    "\n",
    "(You may assume that the input to add_dots does not itself contain any dots.)"
   ]
  },
  {
   "cell_type": "code",
   "execution_count": 46,
   "metadata": {},
   "outputs": [],
   "source": [
    "def add_dots(myString):\n",
    "    nString = ''\n",
    "    dot = \".\"\n",
    "    for idx, letter in enumerate(myString):\n",
    "        if idx == 0:\n",
    "            nString += letter\n",
    "        else:\n",
    "            nString += dot + letter\n",
    "    return nString\n",
    "\n",
    "def remove_dots(mystring):\n",
    "    nString = ''\n",
    "    for letter in mystring:\n",
    "        if not letter == \".\":\n",
    "            nString += letter\n",
    "    return nString"
   ]
  },
  {
   "cell_type": "code",
   "execution_count": 48,
   "metadata": {},
   "outputs": [
    {
     "data": {
      "text/plain": [
       "'t.e.s.t'"
      ]
     },
     "execution_count": 48,
     "metadata": {},
     "output_type": "execute_result"
    }
   ],
   "source": [
    "add_dots('test')\n"
   ]
  },
  {
   "cell_type": "code",
   "execution_count": 49,
   "metadata": {},
   "outputs": [
    {
     "data": {
      "text/plain": [
       "'test'"
      ]
     },
     "execution_count": 49,
     "metadata": {},
     "output_type": "execute_result"
    }
   ],
   "source": [
    "remove_dots(\"t.e.s.t\")"
   ]
  },
  {
   "cell_type": "code",
   "execution_count": 50,
   "metadata": {},
   "outputs": [
    {
     "data": {
      "text/plain": [
       "'test'"
      ]
     },
     "execution_count": 50,
     "metadata": {},
     "output_type": "execute_result"
    }
   ],
   "source": [
    "string = 'test'\n",
    "remove_dots(add_dots(string))"
   ]
  },
  {
   "cell_type": "code",
   "execution_count": 51,
   "metadata": {},
   "outputs": [],
   "source": [
    "# SOLUTIONS\n",
    "\n",
    "# the longer way\n",
    "def add_dots(s):\n",
    "    out = \"\"\n",
    "    for letter in s:\n",
    "        out += letter + \".\"\n",
    "    return out[:-1]\n",
    "\n",
    "def remove_dots(s):\n",
    "    out = \"\"\n",
    "    for letter in s:\n",
    "        if letter != \".\":\n",
    "            out += letter\n",
    "    return out\n",
    "\n",
    "\n",
    "# the short way\n",
    "def add_dots(s):\n",
    "    return \".\".join(s)\n",
    "\n",
    "def remove_dots(s):\n",
    "    return s.replace(\".\", \"\")"
   ]
  },
  {
   "cell_type": "markdown",
   "metadata": {},
   "source": [
    "### 8. Counting syllables\n",
    "\n",
    "Define a function named count that takes a single parameter. The parameter is a string. The string will contain a single word divided into syllables by hyphens, such as these:\n",
    "\n",
    "```python\n",
    "\"ho-tel\"\n",
    "\"cat\"\n",
    "\"met-a-phor\"\n",
    "\"ter-min-a-tor\"\n",
    "```\n",
    "Your function should count the number of syllables and return it.\n",
    "\n",
    "For example, the call ```count(\"ho-tel\")``` should return ```2```."
   ]
  },
  {
   "cell_type": "code",
   "execution_count": 1,
   "metadata": {},
   "outputs": [],
   "source": [
    "def count(string):\n",
    "    return len(string.split('-'))"
   ]
  },
  {
   "cell_type": "code",
   "execution_count": 2,
   "metadata": {},
   "outputs": [
    {
     "data": {
      "text/plain": [
       "2"
      ]
     },
     "execution_count": 2,
     "metadata": {},
     "output_type": "execute_result"
    }
   ],
   "source": [
    "count(\"ho-tel\")"
   ]
  },
  {
   "cell_type": "code",
   "execution_count": 3,
   "metadata": {},
   "outputs": [],
   "source": [
    "# naive solution\n",
    "def count(word):\n",
    "    syllables = 1\n",
    "    for letter in word:\n",
    "        if letter == \"-\":\n",
    "            syllables = syllables + 1\n",
    "    return syllables\n",
    "\n",
    "# using the count method\n",
    "def count(word):\n",
    "    return word.count(\"-\") + 1\n",
    "\n",
    "# using split\n",
    "def count(word):\n",
    "    return len(word.split(\"-\"))"
   ]
  },
  {
   "cell_type": "markdown",
   "metadata": {},
   "source": [
    "### 9. Anagrams\n",
    "\n",
    "Two strings are anagrams if you can make one from the other by rearranging the letters.\n",
    "\n",
    "Write a function named is_anagram that takes two strings as its parameters. Your function should return True if the strings are anagrams, and False otherwise.\n",
    "\n",
    "For example, the  call ```is_anagram(\"typhoon\", \"opython\")``` should return ```True``` while the call ```is_anagram(\"Alice\", \"Bob\")``` should return ```False```."
   ]
  },
  {
   "cell_type": "code",
   "execution_count": 4,
   "metadata": {},
   "outputs": [],
   "source": [
    "def is_anagram(string1,string2):\n",
    "    return sorted(string1) == sorted(string2)"
   ]
  },
  {
   "cell_type": "code",
   "execution_count": 5,
   "metadata": {},
   "outputs": [
    {
     "data": {
      "text/plain": [
       "True"
      ]
     },
     "execution_count": 5,
     "metadata": {},
     "output_type": "execute_result"
    }
   ],
   "source": [
    "is_anagram(\"typhoon\", \"opython\")"
   ]
  },
  {
   "cell_type": "code",
   "execution_count": 6,
   "metadata": {},
   "outputs": [
    {
     "data": {
      "text/plain": [
       "False"
      ]
     },
     "execution_count": 6,
     "metadata": {},
     "output_type": "execute_result"
    }
   ],
   "source": [
    "is_anagram(\"Alice\", \"Bob\")"
   ]
  },
  {
   "cell_type": "code",
   "execution_count": 7,
   "metadata": {},
   "outputs": [],
   "source": [
    "# easy solution\n",
    "def is_anagram(string1, string2):\n",
    "    return sorted(string1) == sorted(string2)\n",
    "\n",
    "# harder solution:\n",
    "# count how many times each letter appears in each string,\n",
    "# and make sure all the counts are the same.\n",
    "def count_letters(string):\n",
    "    return {l: string.count(l) for l in string}\n",
    "def is_anagram(string1, string2):\n",
    "    return count_letters(string1) == count_letters(string2)"
   ]
  },
  {
   "cell_type": "markdown",
   "metadata": {},
   "source": [
    "### 10. Flatten a list\n",
    "\n",
    "Write a function that takes a list of lists and flattens it into a one-dimensional list.\n",
    "\n",
    "Name your function flatten. It should take a single parameter and return a list.\n",
    "\n",
    "For example, calling:\n",
    "```python \n",
    "flatten([[1, 2], [3, 4]])\n",
    "```\n",
    "Should return the list:\n",
    "```python\n",
    "[1, 2, 3, 4]\n",
    "```"
   ]
  },
  {
   "cell_type": "code",
   "execution_count": 8,
   "metadata": {},
   "outputs": [],
   "source": [
    "def flatten(lst):\n",
    "    nLst = []\n",
    "    for i in lst:\n",
    "        for j in i:\n",
    "            nLst.append(j)\n",
    "    return nLst"
   ]
  },
  {
   "cell_type": "code",
   "execution_count": 9,
   "metadata": {},
   "outputs": [
    {
     "data": {
      "text/plain": [
       "[1, 2, 3, 4]"
      ]
     },
     "execution_count": 9,
     "metadata": {},
     "output_type": "execute_result"
    }
   ],
   "source": [
    "flatten([[1, 2], [3, 4]])"
   ]
  },
  {
   "cell_type": "code",
   "execution_count": 10,
   "metadata": {},
   "outputs": [],
   "source": [
    "# naive solution\n",
    "def flatten(outer_list):\n",
    "    result = []\n",
    "    for inner_list in outer_list:\n",
    "        for item in inner_list:\n",
    "            result.append(item)\n",
    "    return result\n",
    "\n",
    "# solution with nested list comprehensions\n",
    "# (can be put on a single line for conciseness)\n",
    "def flatten(outer_list):\n",
    "    return [\n",
    "        item\n",
    "        for inner_list in outer_list\n",
    "        for item in inner_list\n",
    "    ]"
   ]
  },
  {
   "cell_type": "markdown",
   "metadata": {},
   "source": [
    "### 11. Min-maxing\n",
    "\n",
    "Define a function named ```largest_difference``` that takes a list of numbers as its only parameter.\n",
    "\n",
    "Your function should compute and return the difference between the largest and smallest number in the list.\n",
    "\n",
    "For example, the call ```largest_difference([1, 2, 3])``` should return ```2``` because ``3 - 1`` is ``2``.\n",
    "\n",
    "You may assume that no numbers are smaller or larger than -100 and 100."
   ]
  },
  {
   "cell_type": "code",
   "execution_count": 11,
   "metadata": {},
   "outputs": [],
   "source": [
    "def largest_difference(nums=list):\n",
    "    snum = 100\n",
    "    lnum = -100\n",
    "    \n",
    "\n",
    "    for i in nums:\n",
    "        if i < snum:\n",
    "            snum = i\n",
    "    for i in nums:\n",
    "        if i > lnum:\n",
    "            lnum = i\n",
    "    return lnum - snum"
   ]
  },
  {
   "cell_type": "code",
   "execution_count": 12,
   "metadata": {},
   "outputs": [
    {
     "data": {
      "text/plain": [
       "2"
      ]
     },
     "execution_count": 12,
     "metadata": {},
     "output_type": "execute_result"
    }
   ],
   "source": [
    "largest_difference([1, 2, 3])"
   ]
  },
  {
   "cell_type": "code",
   "execution_count": 13,
   "metadata": {},
   "outputs": [],
   "source": [
    "# short solution\n",
    "def largest_difference(numbers):\n",
    "    return max(numbers) - min(numbers)\n",
    "\n",
    "# naive solution\n",
    "def largest_difference(numbers):\n",
    "    smallest = 100\n",
    "    for n in numbers:\n",
    "        if n < smallest:\n",
    "            smallest = n\n",
    "\n",
    "    largest = -100\n",
    "    for n in numbers:\n",
    "        if n > largest:\n",
    "            largest = n\n",
    "\n",
    "    difference = largest - smallest\n",
    "    return difference"
   ]
  },
  {
   "cell_type": "markdown",
   "metadata": {},
   "source": [
    "### 12. Divisible by 3\n",
    "\n",
    "Define a function named `div_3` that returns `True` if its single integer parameter is divisible by 3 and `False` otherwise.\n",
    "\n",
    "For example,`div_3(6)` is `True` because 6/3 does not leave any remainder. However `div_3(5)` is `False` because 5/3 leaves 2 as a remainder."
   ]
  },
  {
   "cell_type": "code",
   "execution_count": 14,
   "metadata": {},
   "outputs": [],
   "source": [
    "def div_3(num):\n",
    "    return num % 3== 0"
   ]
  },
  {
   "cell_type": "code",
   "execution_count": 15,
   "metadata": {},
   "outputs": [
    {
     "data": {
      "text/plain": [
       "True"
      ]
     },
     "execution_count": 15,
     "metadata": {},
     "output_type": "execute_result"
    }
   ],
   "source": [
    "div_3(6)"
   ]
  },
  {
   "cell_type": "code",
   "execution_count": 16,
   "metadata": {},
   "outputs": [
    {
     "data": {
      "text/plain": [
       "False"
      ]
     },
     "execution_count": 16,
     "metadata": {},
     "output_type": "execute_result"
    }
   ],
   "source": [
    "div_3(5)"
   ]
  },
  {
   "cell_type": "markdown",
   "metadata": {},
   "source": [
    "### 13. Tic tac toe input\n",
    "\n",
    "Here's the backstory for this challenge: imagine you're writing a tic-tac-toe game, where the board looks like this:\n",
    "```python\n",
    "1:  X | O | X\n",
    "   -----------\n",
    "2:    |   |  \n",
    "   -----------\n",
    "3:  O |   |\n",
    "\n",
    "    A   B  C\n",
    "```\n",
    "\n",
    "The board is represented as a 2D list:\n",
    "```python\n",
    "board = [\n",
    "    [\"X\", \"O\", \"X\"],\n",
    "    [\" \", \" \", \" \"],\n",
    "    [\"O\", \" \", \" \"],\n",
    "]\n",
    "```\n",
    "Imagine if your user enters \"C1\" and you need to see if there's an X or O in that cell on the board. To do so, you need to translate from the string \"C1\" to row 0 and column 2 so that you can check `board[row][column]`.\n",
    "\n",
    "Your task is to write a function that can translate from strings of length 2 to a tuple `(row, column)`. Name your function `get_row_col`; it should take a single parameter which is a string of length 2 consisting of an uppercase letter and a digit.\n",
    "\n",
    "For example, calling `get_row_col(\"A3\")` should return the tuple `(2, 0)` because A3 corresponds to the row at index 2 and column at index 0 in the board."
   ]
  },
  {
   "cell_type": "code",
   "execution_count": 18,
   "metadata": {},
   "outputs": [],
   "source": [
    "def get_row_col(coord):\n",
    "    result = ()\n",
    "    row = coord[1]\n",
    "    \n",
    "    if coord[0].upper() == \"A\":\n",
    "        col = 0\n",
    "    elif coord[0].upper() == \"B\":\n",
    "        col = 1\n",
    "    elif coord[0].upper() == \"C\":\n",
    "        col = 2\n",
    "    else:\n",
    "        print(\"Invalid choice\")\n",
    "    \n",
    "    result = (int(row)-1,col)\n",
    "    return result"
   ]
  },
  {
   "cell_type": "code",
   "execution_count": 19,
   "metadata": {},
   "outputs": [
    {
     "data": {
      "text/plain": [
       "(2, 0)"
      ]
     },
     "execution_count": 19,
     "metadata": {},
     "output_type": "execute_result"
    }
   ],
   "source": [
    "get_row_col(\"A3\")"
   ]
  },
  {
   "cell_type": "code",
   "execution_count": 20,
   "metadata": {},
   "outputs": [],
   "source": [
    "#Solution\n",
    "def get_row_col(choice):\n",
    "    translate = {\"A\": 0, \"B\": 1, \"C\": 2}\n",
    "    letter = choice[0]\n",
    "    number = choice[1]\n",
    "    row = int(number) - 1\n",
    "    column = translate[letter]\n",
    "    return (row, column)"
   ]
  },
  {
   "cell_type": "markdown",
   "metadata": {},
   "source": [
    "### 15. Palindrome\n",
    "\n",
    "A string is a palindrome when it is the same when read backwards.\n",
    "\n",
    "For example, the string `\"bob\"` is a palindrome. So is `\"abba\"`. But the string `\"abcd\"` is not a palindrome, because `\"abcd\" != \"dcba\"`.\n",
    "\n",
    "Write a function named `palindrome` that takes a single string as its parameter. Your function should return `True` if the string is a palindrome, and `False` otherwise."
   ]
  },
  {
   "cell_type": "code",
   "execution_count": 21,
   "metadata": {},
   "outputs": [],
   "source": [
    "def palindrome(string):\n",
    "    return string == string[::-1]\n"
   ]
  },
  {
   "cell_type": "code",
   "execution_count": 23,
   "metadata": {},
   "outputs": [
    {
     "data": {
      "text/plain": [
       "True"
      ]
     },
     "execution_count": 23,
     "metadata": {},
     "output_type": "execute_result"
    }
   ],
   "source": [
    "palindrome('hannah')"
   ]
  },
  {
   "cell_type": "code",
   "execution_count": 24,
   "metadata": {},
   "outputs": [],
   "source": [
    "# iterative solution:\n",
    "# keep chopping off the head and tail of the string,\n",
    "# and compare the two. If they are not equal, it's\n",
    "# not a palindrome. Stop when the string gets too short.\n",
    "def palindrome(string):\n",
    "    while len(string) > 1:\n",
    "        head = string[0]\n",
    "        tail = string[-1]\n",
    "        string = string[1:-1]\n",
    "        if head != tail:\n",
    "            return False\n",
    "    return True\n",
    "\n",
    "# recursive solution: equivalent to the above.\n",
    "def palindrome(string):\n",
    "    if len(string) < 2:\n",
    "        return True\n",
    "    return string[0] == string[-1] and palindrome(string[1:-1])\n",
    "\n",
    "# smarter solution:\n",
    "# check if reversing the string gives the same string.\n",
    "def palindrome(string):\n",
    "    return string == string[::-1]"
   ]
  },
  {
   "cell_type": "code",
   "execution_count": null,
   "metadata": {},
   "outputs": [],
   "source": []
  }
 ],
 "metadata": {
  "interpreter": {
   "hash": "40ed2d0a4f53b888b485acb44b0f8db74c8678ad9436a3b0276082c477ed015d"
  },
  "kernelspec": {
   "display_name": "Python 3.8.3 64-bit ('ikigai': conda)",
   "language": "python",
   "name": "python3"
  },
  "language_info": {
   "codemirror_mode": {
    "name": "ipython",
    "version": 3
   },
   "file_extension": ".py",
   "mimetype": "text/x-python",
   "name": "python",
   "nbconvert_exporter": "python",
   "pygments_lexer": "ipython3",
   "version": "3.8.3"
  },
  "orig_nbformat": 4
 },
 "nbformat": 4,
 "nbformat_minor": 2
}
