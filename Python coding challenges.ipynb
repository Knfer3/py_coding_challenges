{
 "cells": [
  {
   "cell_type": "markdown",
   "metadata": {},
   "source": [
    "## Python coding challenges \n",
    "\n",
    "All examples are from [python principles](https://pythonprinciples.com/challenges/)\n",
    "and are great exercises to learn if you are a beginner, but also to keep your python skills fresh in memory. \n",
    "\n",
    "challanges range from easy to (moderately) challenging\n"
   ]
  },
  {
   "cell_type": "markdown",
   "metadata": {},
   "source": [
    "### 1. Capital indexes\n",
    "\n",
    "\n",
    "Write a function named capital_indexes. The function takes a single parameter, which is a string. Your function should return a list of all the indexes in the string that have capital letters.\n",
    "\n",
    "For example, calling ```capital_indexes(\"HeLlO\")``` should return the list [0, 2, 4]."
   ]
  },
  {
   "cell_type": "code",
   "execution_count": 8,
   "metadata": {},
   "outputs": [],
   "source": [
    "def capital_indexes(myString):\n",
    "    return [enum for enum,i in enumerate(myString) if i.isupper()]"
   ]
  },
  {
   "cell_type": "code",
   "execution_count": 9,
   "metadata": {},
   "outputs": [
    {
     "data": {
      "text/plain": [
       "[0, 2, 4]"
      ]
     },
     "execution_count": 9,
     "metadata": {},
     "output_type": "execute_result"
    }
   ],
   "source": [
    "capital_indexes('HeLlO')"
   ]
  },
  {
   "cell_type": "markdown",
   "metadata": {},
   "source": [
    "### 2. Middle letter\n",
    "\n",
    "Write a function named mid that takes a string as its parameter. Your function should extract and return the middle letter. If there is no middle letter, your function should return the empty string.\n",
    "\n",
    "For example, ```mid(\"abc\")``` should return \"b\" and ```mid(\"aaaa\")``` should return \"\".\n",
    "\n"
   ]
  },
  {
   "cell_type": "code",
   "execution_count": 5,
   "metadata": {},
   "outputs": [],
   "source": [
    "def mid(word):\n",
    "    if not len(word) % 2 == 0:\n",
    "        word_len = int(len(word)/2)\n",
    "        result = word[word_len]\n",
    "    else:\n",
    "        result = \"\"\n",
    "    return result"
   ]
  },
  {
   "cell_type": "code",
   "execution_count": 6,
   "metadata": {},
   "outputs": [
    {
     "data": {
      "text/plain": [
       "'b'"
      ]
     },
     "execution_count": 6,
     "metadata": {},
     "output_type": "execute_result"
    }
   ],
   "source": [
    "mid(\"abc\")"
   ]
  },
  {
   "cell_type": "code",
   "execution_count": 7,
   "metadata": {},
   "outputs": [
    {
     "data": {
      "text/plain": [
       "''"
      ]
     },
     "execution_count": 7,
     "metadata": {},
     "output_type": "execute_result"
    }
   ],
   "source": [
    "mid('aaaa')"
   ]
  },
  {
   "cell_type": "markdown",
   "metadata": {},
   "source": [
    "### 3. Online status\n",
    "\n",
    "The aim of this challenge is, given a dictionary of people's online status, to count the number of people who are online.\n",
    "\n",
    "For example, consider the following dictionary:\n",
    "\n",
    "```python\n",
    "statuses = {\n",
    "    \"Alice\": \"online\",\n",
    "    \"Bob\": \"offline\",\n",
    "    \"Eve\": \"online\",\n",
    "}\n",
    "```\n",
    "In this case, the number of people online is 2.\n",
    "\n",
    "Write a function named online_count that takes one parameter. The parameter is a dictionary that maps from strings of names to the string ```\"online\"``` or ```\"offline\"```, as seen above.\n",
    "\n",
    "Your function should return the number of people who are online."
   ]
  },
  {
   "cell_type": "code",
   "execution_count": 11,
   "metadata": {},
   "outputs": [],
   "source": [
    "statuses = {\n",
    "    \"Alice\": \"online\",\n",
    "    \"Bob\": \"offline\",\n",
    "    \"Eve\": \"online\",\n",
    "}"
   ]
  },
  {
   "cell_type": "code",
   "execution_count": 10,
   "metadata": {},
   "outputs": [],
   "source": [
    "def online_count(myDic):\n",
    "    return len([p for p in myDic if myDic[p] == \"online\" ])"
   ]
  },
  {
   "cell_type": "code",
   "execution_count": 12,
   "metadata": {},
   "outputs": [
    {
     "data": {
      "text/plain": [
       "2"
      ]
     },
     "execution_count": 12,
     "metadata": {},
     "output_type": "execute_result"
    }
   ],
   "source": [
    "online_count(statuses)"
   ]
  },
  {
   "cell_type": "markdown",
   "metadata": {},
   "source": [
    "### 4. Randomness\n",
    "\n",
    "Define a function, random_number, that takes no parameters. The function must generate a random integer between 1 and 100, both inclusive, and return it.\n",
    "\n",
    "Calling the function multiple times should (usually) return different numbers.\n",
    "\n",
    "For example, calling ```random_number()``` some times might first return ```42```, then ```63```, then ```1```."
   ]
  },
  {
   "cell_type": "code",
   "execution_count": 2,
   "metadata": {},
   "outputs": [],
   "source": [
    "import random\n",
    "def random_number():\n",
    "    return random.randint(1,100)"
   ]
  },
  {
   "cell_type": "code",
   "execution_count": 3,
   "metadata": {},
   "outputs": [
    {
     "data": {
      "text/plain": [
       "3"
      ]
     },
     "execution_count": 3,
     "metadata": {},
     "output_type": "execute_result"
    }
   ],
   "source": [
    "random_number()"
   ]
  },
  {
   "cell_type": "markdown",
   "metadata": {},
   "source": [
    "### 5. Type check\n",
    "\n",
    "Write a function named only_ints that takes two parameters. Your function should return ```True``` if both parameters are integers, and ```False``` otherwise.\n",
    "\n",
    "For example, calling ```only_ints(1, 2)``` should return ```True```, while calling ```only_ints(\"a\", 1)``` should return False."
   ]
  },
  {
   "cell_type": "code",
   "execution_count": 4,
   "metadata": {},
   "outputs": [],
   "source": [
    "def only_ints(parm1,parm2):\n",
    "    return type(parm1) == int and type(parm2) == int"
   ]
  },
  {
   "cell_type": "code",
   "execution_count": 5,
   "metadata": {},
   "outputs": [
    {
     "data": {
      "text/plain": [
       "True"
      ]
     },
     "execution_count": 5,
     "metadata": {},
     "output_type": "execute_result"
    }
   ],
   "source": [
    "only_ints(1, 2)"
   ]
  },
  {
   "cell_type": "code",
   "execution_count": 6,
   "metadata": {},
   "outputs": [
    {
     "data": {
      "text/plain": [
       "False"
      ]
     },
     "execution_count": 6,
     "metadata": {},
     "output_type": "execute_result"
    }
   ],
   "source": [
    "only_ints(\"a\", 1)"
   ]
  },
  {
   "cell_type": "markdown",
   "metadata": {},
   "source": [
    "### 6. Double letters\n",
    "\n",
    "The goal of this challenge is to analyze a string to check if it contains two of the same letter in a row. For example, the string \"hello\" has l twice in a row, while the string \"nono\" does not have two identical letters in a row.\n",
    "\n",
    "Define a function named ```double_letters``` that takes a single parameter. The parameter is a string. Your function must return ```True``` if there are two identical letters in a row in the string, and ```False``` otherwise."
   ]
  },
  {
   "cell_type": "code",
   "execution_count": 13,
   "metadata": {},
   "outputs": [],
   "source": [
    "def double_letters(mystring):\n",
    "    result = False\n",
    "    for idx, i in enumerate(mystring):\n",
    "        if mystring[idx-1] == i:\n",
    "            result = True\n",
    "            break\n",
    "        else:\n",
    "            result = False\n",
    "    return result"
   ]
  },
  {
   "cell_type": "code",
   "execution_count": 14,
   "metadata": {},
   "outputs": [
    {
     "data": {
      "text/plain": [
       "True"
      ]
     },
     "execution_count": 14,
     "metadata": {},
     "output_type": "execute_result"
    }
   ],
   "source": [
    "double_letters('Hello')"
   ]
  },
  {
   "cell_type": "code",
   "execution_count": 15,
   "metadata": {},
   "outputs": [
    {
     "data": {
      "text/plain": [
       "False"
      ]
     },
     "execution_count": 15,
     "metadata": {},
     "output_type": "execute_result"
    }
   ],
   "source": [
    "double_letters('nono')"
   ]
  },
  {
   "cell_type": "code",
   "execution_count": 16,
   "metadata": {},
   "outputs": [],
   "source": [
    "# SOLUTIONS:\n",
    "\n",
    "# naive solution\n",
    "def double_letters(string):\n",
    "    for i in range(len(string) - 1):\n",
    "        letter1 = string[i]\n",
    "        letter2 = string[i+1]\n",
    "        if letter1 == letter2:\n",
    "            return True\n",
    "    return False\n",
    "\n",
    "# shorter solution\n",
    "# using a list comprehension, zip, and any\n",
    "def double_letters(string):\n",
    "    return any([a == b for a, b in zip(string, string[1:])])"
   ]
  },
  {
   "cell_type": "markdown",
   "metadata": {},
   "source": [
    "### 7 .Adding and removing dots\n",
    "\n",
    "Write a function named add_dots that takes a string and adds \".\" in between each letter. For example, calling ```add_dots(\"test\")``` should return the string ```\"t.e.s.t\"```.\n",
    "\n",
    "Then, below the add_dots function, write another function named remove_dots that removes all dots from a string. For example, calling ```remove_dots(\"t.e.s.t\") ```should return ```\"test\"```.\n",
    "\n",
    "If both functions are correct, calling ```remove_dots(add_dots(string))``` should return back the original string for any string.\n",
    "\n",
    "(You may assume that the input to add_dots does not itself contain any dots.)"
   ]
  },
  {
   "cell_type": "code",
   "execution_count": 46,
   "metadata": {},
   "outputs": [],
   "source": [
    "def add_dots(myString):\n",
    "    nString = ''\n",
    "    dot = \".\"\n",
    "    for idx, letter in enumerate(myString):\n",
    "        if idx == 0:\n",
    "            nString += letter\n",
    "        else:\n",
    "            nString += dot + letter\n",
    "    return nString\n",
    "\n",
    "def remove_dots(mystring):\n",
    "    nString = ''\n",
    "    for letter in mystring:\n",
    "        if not letter == \".\":\n",
    "            nString += letter\n",
    "    return nString"
   ]
  },
  {
   "cell_type": "code",
   "execution_count": 48,
   "metadata": {},
   "outputs": [
    {
     "data": {
      "text/plain": [
       "'t.e.s.t'"
      ]
     },
     "execution_count": 48,
     "metadata": {},
     "output_type": "execute_result"
    }
   ],
   "source": [
    "add_dots('test')\n"
   ]
  },
  {
   "cell_type": "code",
   "execution_count": 49,
   "metadata": {},
   "outputs": [
    {
     "data": {
      "text/plain": [
       "'test'"
      ]
     },
     "execution_count": 49,
     "metadata": {},
     "output_type": "execute_result"
    }
   ],
   "source": [
    "remove_dots(\"t.e.s.t\")"
   ]
  },
  {
   "cell_type": "code",
   "execution_count": 50,
   "metadata": {},
   "outputs": [
    {
     "data": {
      "text/plain": [
       "'test'"
      ]
     },
     "execution_count": 50,
     "metadata": {},
     "output_type": "execute_result"
    }
   ],
   "source": [
    "string = 'test'\n",
    "remove_dots(add_dots(string))"
   ]
  },
  {
   "cell_type": "code",
   "execution_count": 51,
   "metadata": {},
   "outputs": [],
   "source": [
    "# SOLUTIONS\n",
    "\n",
    "# the longer way\n",
    "def add_dots(s):\n",
    "    out = \"\"\n",
    "    for letter in s:\n",
    "        out += letter + \".\"\n",
    "    return out[:-1]\n",
    "\n",
    "def remove_dots(s):\n",
    "    out = \"\"\n",
    "    for letter in s:\n",
    "        if letter != \".\":\n",
    "            out += letter\n",
    "    return out\n",
    "\n",
    "\n",
    "# the short way\n",
    "def add_dots(s):\n",
    "    return \".\".join(s)\n",
    "\n",
    "def remove_dots(s):\n",
    "    return s.replace(\".\", \"\")"
   ]
  },
  {
   "cell_type": "code",
   "execution_count": null,
   "metadata": {},
   "outputs": [],
   "source": []
  }
 ],
 "metadata": {
  "interpreter": {
   "hash": "40ed2d0a4f53b888b485acb44b0f8db74c8678ad9436a3b0276082c477ed015d"
  },
  "kernelspec": {
   "display_name": "Python 3.8.3 64-bit ('ikigai': conda)",
   "language": "python",
   "name": "python3"
  },
  "language_info": {
   "codemirror_mode": {
    "name": "ipython",
    "version": 3
   },
   "file_extension": ".py",
   "mimetype": "text/x-python",
   "name": "python",
   "nbconvert_exporter": "python",
   "pygments_lexer": "ipython3",
   "version": "3.8.3"
  },
  "orig_nbformat": 4
 },
 "nbformat": 4,
 "nbformat_minor": 2
}
