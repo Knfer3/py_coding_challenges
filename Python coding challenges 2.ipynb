{
 "cells": [
  {
   "cell_type": "markdown",
   "metadata": {},
   "source": [
    "## Questions\n",
    "\n",
    "Python coding challenges - practice. \n",
    "Questions come from google search \"Python coding challenges free\" "
   ]
  },
  {
   "cell_type": "markdown",
   "metadata": {},
   "source": [
    "##### 1. Curzon Numbers\n",
    "\n",
    "In this challenge, establish if a given integer `num` is a Curzon number. If `1` plus `2` elevated to `num` is exactly divisible by `1` plus `2` multiplied by `num`, then `num` is a Curzon number.\n",
    "\n",
    "Given a non-negative integer `num`, implement a function that returns `True` if `num` is a Curzon number, or `False` otherwise.\n",
    "Examples\n",
    "\n",
    "```python\n",
    "is_curzon(5) ➞ True\n",
    "2 ** 5 + 1 = 33\n",
    "2 * 5 + 1 = 11\n",
    "33 is a multiple of 11\n",
    "\n",
    "is_curzon(10) ➞ False\n",
    "2 ** 10 + 1 = 1025\n",
    "2 * 10 + 1 = 21\n",
    "1025 is not a multiple of 21\n",
    "\n",
    "is_curzon(14) ➞ True\n",
    "2 ** 14 + 1 = 16385\n",
    "2 * 14 + 1 = 29\n",
    "16385 is a multiple of 29\n",
    "\n",
    "```"
   ]
  },
  {
   "cell_type": "code",
   "execution_count": 1,
   "metadata": {},
   "outputs": [],
   "source": [
    "def is_curzon(num):\n",
    "    power = 2**(num) +1\n",
    "    product = (2*num) +1\n",
    "    return power % product == 0"
   ]
  },
  {
   "cell_type": "code",
   "execution_count": 2,
   "metadata": {},
   "outputs": [
    {
     "data": {
      "text/plain": [
       "True"
      ]
     },
     "execution_count": 2,
     "metadata": {},
     "output_type": "execute_result"
    }
   ],
   "source": [
    "is_curzon(5)"
   ]
  },
  {
   "cell_type": "code",
   "execution_count": 3,
   "metadata": {},
   "outputs": [
    {
     "data": {
      "text/plain": [
       "False"
      ]
     },
     "execution_count": 3,
     "metadata": {},
     "output_type": "execute_result"
    }
   ],
   "source": [
    "is_curzon(10)"
   ]
  },
  {
   "cell_type": "markdown",
   "metadata": {},
   "source": [
    "##### 2. Radians to Degrees\n",
    "\n",
    "Create a function that takes an angle in radians and returns the corresponding angle in degrees rounded to one decimal place."
   ]
  },
  {
   "cell_type": "code",
   "execution_count": 4,
   "metadata": {},
   "outputs": [],
   "source": [
    "import math\n",
    "def radians_to_degrees(rad):\n",
    "    return round(rad*180/math.pi,1)"
   ]
  },
  {
   "cell_type": "code",
   "execution_count": 5,
   "metadata": {},
   "outputs": [
    {
     "data": {
      "text/plain": [
       "57.3"
      ]
     },
     "execution_count": 5,
     "metadata": {},
     "output_type": "execute_result"
    }
   ],
   "source": [
    "radians_to_degrees(1)"
   ]
  },
  {
   "cell_type": "markdown",
   "metadata": {},
   "source": [
    "##### 3. Stuttering Function\n",
    "\n",
    "Write a function that stutters a word as if someone is struggling to read it. The first two letters are repeated twice with an ellipsis `...` and space after each, and then the word is pronounced with a question mark `?`.\n",
    "Examples\n",
    "```python\n",
    "stutter(\"incredible\") ➞ \"in... in... incredible?\"\n",
    "\n",
    "stutter(\"enthusiastic\") ➞ \"en... en... enthusiastic?\"\n",
    "\n",
    "stutter(\"outstanding\") ➞ \"ou... ou... outstanding?\"\n",
    "```\n",
    "Notes\n",
    "\n",
    "Assume all input is in lower case and at least two characters long."
   ]
  },
  {
   "cell_type": "code",
   "execution_count": 6,
   "metadata": {},
   "outputs": [],
   "source": [
    "def stutter(word):\n",
    "    return word[0:2] + '... ' + word[0:2] + '... ' + word +'?'"
   ]
  },
  {
   "cell_type": "code",
   "execution_count": 7,
   "metadata": {},
   "outputs": [
    {
     "data": {
      "text/plain": [
       "'in... in... incredible?'"
      ]
     },
     "execution_count": 7,
     "metadata": {},
     "output_type": "execute_result"
    }
   ],
   "source": [
    "stutter('incredible')"
   ]
  },
  {
   "cell_type": "markdown",
   "metadata": {},
   "source": [
    "##### 4. End Corona!\n",
    "\n",
    "Create a function that takes the number of daily average recovered cases `recovers`, daily average `new_cases`, current `active_cases`, and returns the number of **days** it will take to reach zero cases.\n",
    "Examples\n",
    "\n",
    "```python\n",
    "end_corona(4000, 2000, 77000) ➞ 39\n",
    "\n",
    "end_corona(3000, 2000, 50699) ➞ 51\n",
    "\n",
    "end_corona(30000, 25000, 390205) ➞ 79\n",
    "\n",
    "```\n",
    "###### Notes\n",
    "\n",
    "- The number of people who recover per day `recovers` will always be greater than daily `new_cases`.\n",
    "- Be conservative and round up the number of days needed."
   ]
  },
  {
   "cell_type": "code",
   "execution_count": 8,
   "metadata": {},
   "outputs": [],
   "source": [
    "import math #math.ceil rounds up an int\n",
    "def end_corona(recovers, new_cases, active_cases):\n",
    "    return math.ceil(active_cases / (recovers - new_cases ))"
   ]
  },
  {
   "cell_type": "code",
   "execution_count": 9,
   "metadata": {},
   "outputs": [
    {
     "data": {
      "text/plain": [
       "39"
      ]
     },
     "execution_count": 9,
     "metadata": {},
     "output_type": "execute_result"
    }
   ],
   "source": [
    "end_corona(4000, 2000, 77000)"
   ]
  },
  {
   "cell_type": "markdown",
   "metadata": {},
   "source": [
    "##### 5. Sum of Resistance in Series Circuits\n",
    "\n",
    "When resistors are connected together in series, the same current passes through each resistor in the chain and the total resistance, RT, of the circuit must be equal to the sum of all the individual resistors added together. That is:\n",
    "\n",
    "> RT = R1 + R2 + R3 ...\n",
    "\n",
    "Create a function that takes an array of values resistance that are connected in series, and calculates the total resistance of the circuit in `ohms`. The `ohm` is the standard unit of electrical resistance in the International System of Units ( SI ).\n",
    "Examples\n",
    "```\n",
    "series_resistance([1, 5, 6, 3]) ➞ \"15 ohms\"\n",
    "\n",
    "series_resistance([16, 3.5, 6]) ➞ \"25.5 ohms\"\n",
    "\n",
    "series_resistance([0.5, 0.5]) ➞ \"1.0 ohm\"\n",
    "```\n",
    "Notes\n",
    "\n",
    "-   All inputs will be valid.\n",
    "-  Notice the singular `ohm` for values <= 1.\n",
    "-   This challenge was inspired by Joshua Señoron's Python `Sum of Resistance in Parallel Circuits` challenge. You can find it [here](https://edabit.com/challenge/dCnX639Sheqdxqjm2)"
   ]
  },
  {
   "cell_type": "markdown",
   "metadata": {},
   "source": [
    "####"
   ]
  },
  {
   "cell_type": "code",
   "execution_count": 10,
   "metadata": {},
   "outputs": [],
   "source": [
    "def series_resistance(lst):\n",
    "    count = 0\n",
    "    ohm = ''\n",
    "    for i in lst:\n",
    "        count += i \n",
    "    if count <=1:\n",
    "        ohm = \"ohm\"\n",
    "    else:\n",
    "        ohm = 'ohms'\n",
    "    return  '{c} {b}'.format(c=count, b=ohm) "
   ]
  },
  {
   "cell_type": "code",
   "execution_count": 11,
   "metadata": {},
   "outputs": [
    {
     "data": {
      "text/plain": [
       "'15 ohms'"
      ]
     },
     "execution_count": 11,
     "metadata": {},
     "output_type": "execute_result"
    }
   ],
   "source": [
    "series_resistance([1, 5, 6, 3])"
   ]
  },
  {
   "cell_type": "markdown",
   "metadata": {},
   "source": [
    "##### 6. RegEx XV: Alternation\n",
    "\n",
    "The vertical bar `|` is the equivalent to \"or\" in RegEx. The regular expression `x|y` matches either \"x\" or \"y\". Write the **regular expression** that will match all `red flag` and `blue flag` in a string. You must use `|` in your expression. Flags can come in any order.\n",
    "Examples\n",
    "```python\n",
    "txt1 = \"red flag blue flag\"\n",
    "txt2 = \"yellow flag red flag blue flag green flag\"\n",
    "txt3 = \"pink flag red flag black flag blue flag green flag red flag\"\n",
    "pattern = \"yourregularexpressionhere\"\n",
    "\n",
    "re.findall(pattern, txt1) ➞ [\"red flag\", \"blue flag\"]\n",
    "re.findall(pattern, txt2) ➞ [\"red flag\", \"blue flag\"]\n",
    "re.findall(pattern, txt3) ➞ [\"red flag\", \"blue flag\", \"red flag\"]\n",
    "```\n",
    "##### Notes\n",
    "\n",
    "-    You don't need to write a function, just the pattern.\n",
    "-    Do not remove `import re` from the code.\n",
    "-    Find more info on RegEx and alternation in the **Resources tab**.\n",
    "-    You can find all the challenges of this series in the [Basic RegEx](https://edabit.com/collection/8PEq2azWDtAZWPFe2) collection."
   ]
  },
  {
   "cell_type": "code",
   "execution_count": 12,
   "metadata": {},
   "outputs": [],
   "source": [
    "import re\n",
    "\n",
    "pattern = \"yourregularexpressionhere\""
   ]
  },
  {
   "cell_type": "markdown",
   "metadata": {},
   "source": [
    "##### 7.Recursion to Repeat a String n Number of Times\n",
    "\n",
    "Create a recursive function that takes two parameters and repeats the string `n` number of times. The first parameter `txt` is the string to be repeated and the second parameter is the number of times the string is to be repeated.\n",
    "Examples\n",
    "```python\n",
    "repetition(\"ab\", 3) ➞ \"ababab\"\n",
    "\n",
    "repetition(\"kiwi\", 1) ➞ \"kiwi\"\n",
    "\n",
    "repetition(\"cherry\", 2) ➞ \"cherrycherry\"\n",
    "```\n",
    "Notes\n",
    "\n",
    "The second parameter of the function is positive integer."
   ]
  },
  {
   "cell_type": "code",
   "execution_count": 116,
   "metadata": {},
   "outputs": [],
   "source": [
    "def repetition(txt, n, c=0):\n",
    "    if c < n:\n",
    "        repetition(txt,n, c=c + 1) \n",
    "    return(txt * n)"
   ]
  },
  {
   "cell_type": "code",
   "execution_count": 117,
   "metadata": {},
   "outputs": [
    {
     "data": {
      "text/plain": [
       "'karlkarlkarl'"
      ]
     },
     "execution_count": 117,
     "metadata": {},
     "output_type": "execute_result"
    }
   ],
   "source": [
    "repetition('karl',3)"
   ]
  },
  {
   "cell_type": "markdown",
   "metadata": {},
   "source": [
    "##### 8. Find the Discount\n",
    "\n",
    "Create a function that takes two arguments: the original `price` and the `discount` percentage as integers and returns the final price after the discount."
   ]
  },
  {
   "cell_type": "code",
   "execution_count": 122,
   "metadata": {},
   "outputs": [],
   "source": [
    "def dis(price, discount):\n",
    "    return round(price - (price * (discount /100)),2)"
   ]
  },
  {
   "cell_type": "code",
   "execution_count": 123,
   "metadata": {},
   "outputs": [
    {
     "data": {
      "text/plain": [
       "90.0"
      ]
     },
     "execution_count": 123,
     "metadata": {},
     "output_type": "execute_result"
    }
   ],
   "source": [
    "dis(100,10)"
   ]
  },
  {
   "cell_type": "markdown",
   "metadata": {},
   "source": [
    "##### 9. How Heavy Is It?\n",
    "\n",
    "Given radius `r` and height `h` (in cm), calculate the mass of a cylinder when it's filled with water and the cylinder itself doesn't weigh anything. The desired output should be given in kg and rounded to two decimal places.\n",
    "\n",
    "How to solve:\n",
    "\n",
    "- Calculate the volume of the cylinder.\n",
    "- Convert cm³ into dm³.\n",
    "- 1dm³ = 1L, 1L is 1Kg.\n",
    "\n",
    "Examples\n",
    "```python\n",
    "weight(4, 10) ➞ 0.5\n",
    "\n",
    "weight(30, 60) ➞ 169.65\n",
    "\n",
    "weight(15, 10) ➞ 7.07\n",
    "```\n",
    "**Notes**\n",
    "\n",
    "- recommend importing math.\n",
    "- If you get stuck on a challenge, find help in        Resources."
   ]
  },
  {
   "cell_type": "markdown",
   "metadata": {},
   "source": []
  },
  {
   "cell_type": "code",
   "execution_count": 126,
   "metadata": {},
   "outputs": [],
   "source": [
    "import math\n",
    "def weight(r, h):\n",
    "    volume = math.pi * (r**2) * h\n",
    "    return round(volume * 0.001,2)"
   ]
  },
  {
   "cell_type": "code",
   "execution_count": 127,
   "metadata": {},
   "outputs": [
    {
     "data": {
      "text/plain": [
       "3.14"
      ]
     },
     "execution_count": 127,
     "metadata": {},
     "output_type": "execute_result"
    }
   ],
   "source": [
    "weight(10,10)"
   ]
  },
  {
   "cell_type": "code",
   "execution_count": 130,
   "metadata": {},
   "outputs": [],
   "source": [
    "assert sum([1,2,3]) == 6, \"Should be 6\""
   ]
  },
  {
   "cell_type": "code",
   "execution_count": 134,
   "metadata": {},
   "outputs": [],
   "source": [
    "import unittest\n",
    "\n",
    "\n",
    "class TestSum(unittest.TestCase):\n",
    "\n",
    "    def test_sum(self):\n",
    "        self.assertEqual(sum([1, 2, 3]), 6, \"Should be 6\")\n",
    "\n",
    "    def test_sum_tuple(self):\n",
    "        self.assertEqual(sum((1, 2, 2)), 6, \"Should be 6\")\n",
    "\n",
    "# if __name__ == '__main__':\n",
    "#     unittest.main()\n"
   ]
  },
  {
   "cell_type": "markdown",
   "metadata": {},
   "source": [
    "##### 11. Modifying the Last Character\n",
    "\n",
    "Create a function which makes the last character of a string repeat `n` number of times.\n",
    "Examples\n",
    "```python\n",
    "modify_last(\"Hello\", 3) ➞ \"Hellooo\"\n",
    "\n",
    "modify_last(\"hey\", 6) ➞ \"heyyyyyy\"\n",
    "\n",
    "modify_last(\"excuse me what?\", 5) ➞ \"excuse me what?????\"\n",
    "```\n",
    "**Notes**\n",
    "\n",
    "- Test will include numbers and punctuation.\n",
    "- Make sure the code is not case sensitive."
   ]
  },
  {
   "cell_type": "code",
   "execution_count": 135,
   "metadata": {},
   "outputs": [],
   "source": [
    "def modify_last(txt, n):\n",
    "    return txt[:-1] + txt[-1]*n\n"
   ]
  },
  {
   "cell_type": "markdown",
   "metadata": {},
   "source": [
    "##### 12. Luke, I Am Your ...\n",
    "\n",
    "Luke Skywalker has family and friends. Help him remind them who is who. Given a string with a name, return the relation of that person to Luke.\n",
    "- Person\t- Relation\n",
    "-Darth Vader -\tfather\n",
    "- Leia -\tsister\n",
    "- Han\t- brother in law\n",
    "- R2D2 -\tdroid\n",
    "Examples\n",
    "```python\n",
    "relation_to_luke(\"Darth Vader\") ➞ \"Luke, I am your father.\"\n",
    "\n",
    "relation_to_luke(\"Leia\") ➞ \"Luke, I am your sister.\"\n",
    "\n",
    "relation_to_luke(\"Han\") ➞ \"Luke, I am your brother in law.\"\n",
    "```\n",
    "\n",
    "        "
   ]
  },
  {
   "cell_type": "code",
   "execution_count": 147,
   "metadata": {},
   "outputs": [],
   "source": [
    "def relation_to_luke(name):\n",
    "    relations = {\n",
    "            'Darth Vader' : 'father',\n",
    "            'Leia' : 'sister',\n",
    "            'Han' : 'brother in law',\n",
    "            'R2D2' : 'droid', \n",
    "    }\n",
    "    return 'Luke, I am your ' + relations[name] + '.'"
   ]
  },
  {
   "cell_type": "code",
   "execution_count": 148,
   "metadata": {},
   "outputs": [
    {
     "data": {
      "text/plain": [
       "'Luke, I am your brother in law.'"
      ]
     },
     "execution_count": 148,
     "metadata": {},
     "output_type": "execute_result"
    }
   ],
   "source": [
    "relation_to_luke('Han')"
   ]
  },
  {
   "cell_type": "markdown",
   "metadata": {},
   "source": [
    "##### 13. Default Mood\n",
    "\n",
    "Create a function that takes in a current mood and return a sentence in the following format: `\"Today, I am feeling {mood}\"`. However, if no argument is passed, return `\"Today, I am feeling neutral\"`."
   ]
  },
  {
   "cell_type": "code",
   "execution_count": 149,
   "metadata": {},
   "outputs": [],
   "source": [
    "def mood_today(mood):\n",
    "    if mood == \"\":\n",
    "        mood = \"neutral\"\n",
    "    return \"Today, I am feeling \" + mood"
   ]
  },
  {
   "cell_type": "code",
   "execution_count": 151,
   "metadata": {},
   "outputs": [
    {
     "data": {
      "text/plain": [
       "'Today, I am feeling Bleh'"
      ]
     },
     "execution_count": 151,
     "metadata": {},
     "output_type": "execute_result"
    }
   ],
   "source": [
    "mood_today('Bleh')"
   ]
  },
  {
   "cell_type": "code",
   "execution_count": null,
   "metadata": {},
   "outputs": [],
   "source": []
  }
 ],
 "metadata": {
  "interpreter": {
   "hash": "40ed2d0a4f53b888b485acb44b0f8db74c8678ad9436a3b0276082c477ed015d"
  },
  "kernelspec": {
   "display_name": "Python 3.8.3 ('ikigai')",
   "language": "python",
   "name": "python3"
  },
  "language_info": {
   "codemirror_mode": {
    "name": "ipython",
    "version": 3
   },
   "file_extension": ".py",
   "mimetype": "text/x-python",
   "name": "python",
   "nbconvert_exporter": "python",
   "pygments_lexer": "ipython3",
   "version": "3.8.3"
  },
  "orig_nbformat": 4
 },
 "nbformat": 4,
 "nbformat_minor": 2
}
